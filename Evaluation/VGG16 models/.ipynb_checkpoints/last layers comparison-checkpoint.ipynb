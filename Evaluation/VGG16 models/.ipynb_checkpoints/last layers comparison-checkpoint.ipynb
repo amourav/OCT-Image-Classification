{
 "cells": [
  {
   "cell_type": "code",
   "execution_count": 20,
   "metadata": {},
   "outputs": [],
   "source": [
    "import numpy as np\n",
    "import pandas as pd\n",
    "import os\n",
    "from os.path import join\n",
    "import pickle\n",
    "import sys\n",
    "from keras.models import load_model\n",
    "from keras.utils import to_categorical\n",
    "\n",
    "from sklearn.metrics import confusion_matrix\n",
    "from sklearn.metrics import accuracy_score\n",
    "from sklearn.metrics import roc_curve, auc\n",
    "import seaborn as sn"
   ]
  },
  {
   "cell_type": "code",
   "execution_count": 2,
   "metadata": {},
   "outputs": [],
   "source": [
    "thisPath = os.getcwd()\n",
    "os.chdir(\"../../code\")\n",
    "projectDir = os.getcwd()\n",
    "from evalUtils import plotModelHist, UrgentVRoutne"
   ]
  },
  {
   "cell_type": "code",
   "execution_count": 14,
   "metadata": {},
   "outputs": [],
   "source": [
    "def reportBinaryScores(yTrueUrgent, yPredProbUrgent, v=0):\n",
    "    yPredUrgent = yPredProbUrgent.round().astype(np.int)\n",
    "    tn, fp, fn, tp = confusion_matrix(yTrueUrgent.astype(np.float), \n",
    "                                      yPredUrgent).ravel()\n",
    "    tpr = tp/(tp + fn)\n",
    "    tnr = tn/(tn + fp)\n",
    "    fpr = fp/(fp + tn)\n",
    "    fnr = fn/(fn + tp)\n",
    "    plr = tpr/fpr #positive likelihood ratio\n",
    "    nlr = fnr/tnr # negative likelihood ratio\n",
    "    acc = accuracy_score(yTrueUrgent, \n",
    "                         yPredUrgent)\n",
    "    if v:\n",
    "        print('\\t accuracy: {0:.3g}'.format(acc))\n",
    "        print(\"\\t sensitivity {0:.3g}\".format(tpr))\n",
    "        print(\"\\t specificity {0:.3g}\".format(tnr))\n",
    "        print(\"\\t positive likelihood ratio {0:.3g}\".format(plr))\n",
    "        print(\"\\t negative likelihood ratio {0:.3g}\".format(nlr))\n",
    "        print(\"\\n\")\n",
    "    return acc, tpr, tnr, plr, nlr"
   ]
  },
  {
   "cell_type": "code",
   "execution_count": 17,
   "metadata": {},
   "outputs": [],
   "source": [
    "yTestPath = r\"D:\\Projects\\OCT-Image-Classification\\PreprocessedData\\preprocessedForCNN\\224x224\\targetData_(224, 224, 3)_test.npy\"\n",
    "yTrueTest = np.load(yTestPath)"
   ]
  },
  {
   "cell_type": "code",
   "execution_count": 29,
   "metadata": {},
   "outputs": [],
   "source": [
    "modelsPath = r\"D:\\Projects\\OCT-Image-Classification\\modelOutput\\VGG16Models\"\n",
    "VGGPath1 = r\"VGG16_dataAug_False2019-05-19_15_50_3L_asBefore\" # what I had before\n",
    "VGGPath2 = r\"VGG16_dataAug_False2019-05-17_1_17_flattenToDense_q\" \n",
    "VGGPath3 = r\"VGG16_dataAug_False2019-05-17_10_55_flattenInsteadofGAP_2L\" \n",
    "VGGPath4 = r\"VGG16_dataAug_False2019-05-17_14_19_defaultVGG16_4L\" \n",
    "#VGGPath5 = r\"VGG16_dataAug_False2019-05-17_1_4_noGAP_2L\" \n",
    "\n"
   ]
  },
  {
   "cell_type": "code",
   "execution_count": 30,
   "metadata": {},
   "outputs": [
    {
     "name": "stdout",
     "output_type": "stream",
     "text": [
      "0 VGG16_dataAug_False2019-05-19_15_50_3L_asBefore\n"
     ]
    },
    {
     "ename": "ResourceExhaustedError",
     "evalue": "OOM when allocating tensor of shape [] and type float\n\t [[node block1_conv1_9/random_uniform/sub (defined at C:\\Anaconda\\envs\\py36\\lib\\site-packages\\keras\\backend\\tensorflow_backend.py:4139)  = Const[dtype=DT_FLOAT, value=Tensor<type: float shape: [] values: 0.199501872>, _device=\"/job:localhost/replica:0/task:0/device:GPU:0\"]()]]\n\nCaused by op 'block1_conv1_9/random_uniform/sub', defined at:\n  File \"C:\\Anaconda\\envs\\py36\\lib\\runpy.py\", line 193, in _run_module_as_main\n    \"__main__\", mod_spec)\n  File \"C:\\Anaconda\\envs\\py36\\lib\\runpy.py\", line 85, in _run_code\n    exec(code, run_globals)\n  File \"C:\\Anaconda\\envs\\py36\\lib\\site-packages\\ipykernel_launcher.py\", line 16, in <module>\n    app.launch_new_instance()\n  File \"C:\\Anaconda\\envs\\py36\\lib\\site-packages\\traitlets\\config\\application.py\", line 658, in launch_instance\n    app.start()\n  File \"C:\\Anaconda\\envs\\py36\\lib\\site-packages\\ipykernel\\kernelapp.py\", line 478, in start\n    self.io_loop.start()\n  File \"C:\\Anaconda\\envs\\py36\\lib\\site-packages\\zmq\\eventloop\\ioloop.py\", line 177, in start\n    super(ZMQIOLoop, self).start()\n  File \"C:\\Anaconda\\envs\\py36\\lib\\site-packages\\tornado\\ioloop.py\", line 888, in start\n    handler_func(fd_obj, events)\n  File \"C:\\Anaconda\\envs\\py36\\lib\\site-packages\\tornado\\stack_context.py\", line 277, in null_wrapper\n    return fn(*args, **kwargs)\n  File \"C:\\Anaconda\\envs\\py36\\lib\\site-packages\\zmq\\eventloop\\zmqstream.py\", line 440, in _handle_events\n    self._handle_recv()\n  File \"C:\\Anaconda\\envs\\py36\\lib\\site-packages\\zmq\\eventloop\\zmqstream.py\", line 472, in _handle_recv\n    self._run_callback(callback, msg)\n  File \"C:\\Anaconda\\envs\\py36\\lib\\site-packages\\zmq\\eventloop\\zmqstream.py\", line 414, in _run_callback\n    callback(*args, **kwargs)\n  File \"C:\\Anaconda\\envs\\py36\\lib\\site-packages\\tornado\\stack_context.py\", line 277, in null_wrapper\n    return fn(*args, **kwargs)\n  File \"C:\\Anaconda\\envs\\py36\\lib\\site-packages\\ipykernel\\kernelbase.py\", line 281, in dispatcher\n    return self.dispatch_shell(stream, msg)\n  File \"C:\\Anaconda\\envs\\py36\\lib\\site-packages\\ipykernel\\kernelbase.py\", line 232, in dispatch_shell\n    handler(stream, idents, msg)\n  File \"C:\\Anaconda\\envs\\py36\\lib\\site-packages\\ipykernel\\kernelbase.py\", line 397, in execute_request\n    user_expressions, allow_stdin)\n  File \"C:\\Anaconda\\envs\\py36\\lib\\site-packages\\ipykernel\\ipkernel.py\", line 208, in do_execute\n    res = shell.run_cell(code, store_history=store_history, silent=silent)\n  File \"C:\\Anaconda\\envs\\py36\\lib\\site-packages\\ipykernel\\zmqshell.py\", line 533, in run_cell\n    return super(ZMQInteractiveShell, self).run_cell(*args, **kwargs)\n  File \"C:\\Anaconda\\envs\\py36\\lib\\site-packages\\IPython\\core\\interactiveshell.py\", line 2728, in run_cell\n    interactivity=interactivity, compiler=compiler, result=result)\n  File \"C:\\Anaconda\\envs\\py36\\lib\\site-packages\\IPython\\core\\interactiveshell.py\", line 2850, in run_ast_nodes\n    if self.run_code(code, result):\n  File \"C:\\Anaconda\\envs\\py36\\lib\\site-packages\\IPython\\core\\interactiveshell.py\", line 2910, in run_code\n    exec(code_obj, self.user_global_ns, self.user_ns)\n  File \"<ipython-input-30-fe0563691d89>\", line 8, in <module>\n    model = load_model(modelPath)\n  File \"C:\\Anaconda\\envs\\py36\\lib\\site-packages\\keras\\engine\\saving.py\", line 419, in load_model\n    model = _deserialize_model(f, custom_objects, compile)\n  File \"C:\\Anaconda\\envs\\py36\\lib\\site-packages\\keras\\engine\\saving.py\", line 225, in _deserialize_model\n    model = model_from_config(model_config, custom_objects=custom_objects)\n  File \"C:\\Anaconda\\envs\\py36\\lib\\site-packages\\keras\\engine\\saving.py\", line 458, in model_from_config\n    return deserialize(config, custom_objects=custom_objects)\n  File \"C:\\Anaconda\\envs\\py36\\lib\\site-packages\\keras\\layers\\__init__.py\", line 55, in deserialize\n    printable_module_name='layer')\n  File \"C:\\Anaconda\\envs\\py36\\lib\\site-packages\\keras\\utils\\generic_utils.py\", line 145, in deserialize_keras_object\n    list(custom_objects.items())))\n  File \"C:\\Anaconda\\envs\\py36\\lib\\site-packages\\keras\\engine\\network.py\", line 1032, in from_config\n    process_node(layer, node_data)\n  File \"C:\\Anaconda\\envs\\py36\\lib\\site-packages\\keras\\engine\\network.py\", line 991, in process_node\n    layer(unpack_singleton(input_tensors), **kwargs)\n  File \"C:\\Anaconda\\envs\\py36\\lib\\site-packages\\keras\\engine\\base_layer.py\", line 431, in __call__\n    self.build(unpack_singleton(input_shapes))\n  File \"C:\\Anaconda\\envs\\py36\\lib\\site-packages\\keras\\layers\\convolutional.py\", line 141, in build\n    constraint=self.kernel_constraint)\n  File \"C:\\Anaconda\\envs\\py36\\lib\\site-packages\\keras\\legacy\\interfaces.py\", line 91, in wrapper\n    return func(*args, **kwargs)\n  File \"C:\\Anaconda\\envs\\py36\\lib\\site-packages\\keras\\engine\\base_layer.py\", line 249, in add_weight\n    weight = K.variable(initializer(shape),\n  File \"C:\\Anaconda\\envs\\py36\\lib\\site-packages\\keras\\initializers.py\", line 218, in __call__\n    dtype=dtype, seed=self.seed)\n  File \"C:\\Anaconda\\envs\\py36\\lib\\site-packages\\keras\\backend\\tensorflow_backend.py\", line 4139, in random_uniform\n    dtype=dtype, seed=seed)\n  File \"C:\\Anaconda\\envs\\py36\\lib\\site-packages\\tensorflow\\python\\ops\\random_ops.py\", line 244, in random_uniform\n    return math_ops.add(rnd * (maxval - minval), minval, name=name)\n  File \"C:\\Anaconda\\envs\\py36\\lib\\site-packages\\tensorflow\\python\\ops\\math_ops.py\", line 866, in binary_op_wrapper\n    return func(x, y, name=name)\n  File \"C:\\Anaconda\\envs\\py36\\lib\\site-packages\\tensorflow\\python\\ops\\gen_math_ops.py\", line 8318, in sub\n    \"Sub\", x=x, y=y, name=name)\n  File \"C:\\Anaconda\\envs\\py36\\lib\\site-packages\\tensorflow\\python\\framework\\op_def_library.py\", line 787, in _apply_op_helper\n    op_def=op_def)\n  File \"C:\\Anaconda\\envs\\py36\\lib\\site-packages\\tensorflow\\python\\util\\deprecation.py\", line 488, in new_func\n    return func(*args, **kwargs)\n  File \"C:\\Anaconda\\envs\\py36\\lib\\site-packages\\tensorflow\\python\\framework\\ops.py\", line 3274, in create_op\n    op_def=op_def)\n  File \"C:\\Anaconda\\envs\\py36\\lib\\site-packages\\tensorflow\\python\\framework\\ops.py\", line 1770, in __init__\n    self._traceback = tf_stack.extract_stack()\n\nResourceExhaustedError (see above for traceback): OOM when allocating tensor of shape [] and type float\n\t [[node block1_conv1_9/random_uniform/sub (defined at C:\\Anaconda\\envs\\py36\\lib\\site-packages\\keras\\backend\\tensorflow_backend.py:4139)  = Const[dtype=DT_FLOAT, value=Tensor<type: float shape: [] values: 0.199501872>, _device=\"/job:localhost/replica:0/task:0/device:GPU:0\"]()]]\n",
     "output_type": "error",
     "traceback": [
      "\u001b[1;31m---------------------------------------------------------------------------\u001b[0m",
      "\u001b[1;31mResourceExhaustedError\u001b[0m                    Traceback (most recent call last)",
      "\u001b[1;32mC:\\Anaconda\\envs\\py36\\lib\\site-packages\\tensorflow\\python\\client\\session.py\u001b[0m in \u001b[0;36m_do_call\u001b[1;34m(self, fn, *args)\u001b[0m\n\u001b[0;32m   1333\u001b[0m     \u001b[1;32mtry\u001b[0m\u001b[1;33m:\u001b[0m\u001b[1;33m\u001b[0m\u001b[0m\n\u001b[1;32m-> 1334\u001b[1;33m       \u001b[1;32mreturn\u001b[0m \u001b[0mfn\u001b[0m\u001b[1;33m(\u001b[0m\u001b[1;33m*\u001b[0m\u001b[0margs\u001b[0m\u001b[1;33m)\u001b[0m\u001b[1;33m\u001b[0m\u001b[0m\n\u001b[0m\u001b[0;32m   1335\u001b[0m     \u001b[1;32mexcept\u001b[0m \u001b[0merrors\u001b[0m\u001b[1;33m.\u001b[0m\u001b[0mOpError\u001b[0m \u001b[1;32mas\u001b[0m \u001b[0me\u001b[0m\u001b[1;33m:\u001b[0m\u001b[1;33m\u001b[0m\u001b[0m\n",
      "\u001b[1;32mC:\\Anaconda\\envs\\py36\\lib\\site-packages\\tensorflow\\python\\client\\session.py\u001b[0m in \u001b[0;36m_run_fn\u001b[1;34m(feed_dict, fetch_list, target_list, options, run_metadata)\u001b[0m\n\u001b[0;32m   1318\u001b[0m       return self._call_tf_sessionrun(\n\u001b[1;32m-> 1319\u001b[1;33m           options, feed_dict, fetch_list, target_list, run_metadata)\n\u001b[0m\u001b[0;32m   1320\u001b[0m \u001b[1;33m\u001b[0m\u001b[0m\n",
      "\u001b[1;32mC:\\Anaconda\\envs\\py36\\lib\\site-packages\\tensorflow\\python\\client\\session.py\u001b[0m in \u001b[0;36m_call_tf_sessionrun\u001b[1;34m(self, options, feed_dict, fetch_list, target_list, run_metadata)\u001b[0m\n\u001b[0;32m   1406\u001b[0m         \u001b[0mself\u001b[0m\u001b[1;33m.\u001b[0m\u001b[0m_session\u001b[0m\u001b[1;33m,\u001b[0m \u001b[0moptions\u001b[0m\u001b[1;33m,\u001b[0m \u001b[0mfeed_dict\u001b[0m\u001b[1;33m,\u001b[0m \u001b[0mfetch_list\u001b[0m\u001b[1;33m,\u001b[0m \u001b[0mtarget_list\u001b[0m\u001b[1;33m,\u001b[0m\u001b[1;33m\u001b[0m\u001b[0m\n\u001b[1;32m-> 1407\u001b[1;33m         run_metadata)\n\u001b[0m\u001b[0;32m   1408\u001b[0m \u001b[1;33m\u001b[0m\u001b[0m\n",
      "\u001b[1;31mResourceExhaustedError\u001b[0m: OOM when allocating tensor of shape [] and type float\n\t [[{{node block1_conv1_9/random_uniform/sub}} = Const[dtype=DT_FLOAT, value=Tensor<type: float shape: [] values: 0.199501872>, _device=\"/job:localhost/replica:0/task:0/device:GPU:0\"]()]]",
      "\nDuring handling of the above exception, another exception occurred:\n",
      "\u001b[1;31mResourceExhaustedError\u001b[0m                    Traceback (most recent call last)",
      "\u001b[1;32m<ipython-input-30-fe0563691d89>\u001b[0m in \u001b[0;36m<module>\u001b[1;34m()\u001b[0m\n\u001b[0;32m      6\u001b[0m     \u001b[1;32massert\u001b[0m\u001b[1;33m(\u001b[0m\u001b[0mos\u001b[0m\u001b[1;33m.\u001b[0m\u001b[0mpath\u001b[0m\u001b[1;33m.\u001b[0m\u001b[0misdir\u001b[0m\u001b[1;33m(\u001b[0m\u001b[0mexpPath\u001b[0m\u001b[1;33m)\u001b[0m\u001b[1;33m)\u001b[0m\u001b[1;33m\u001b[0m\u001b[0m\n\u001b[0;32m      7\u001b[0m     \u001b[0mmodelPath\u001b[0m \u001b[1;33m=\u001b[0m \u001b[0mjoin\u001b[0m\u001b[1;33m(\u001b[0m\u001b[0mexpPath\u001b[0m\u001b[1;33m,\u001b[0m \u001b[1;34m\"VGG16.hdf5\"\u001b[0m\u001b[1;33m)\u001b[0m\u001b[1;33m\u001b[0m\u001b[0m\n\u001b[1;32m----> 8\u001b[1;33m     \u001b[0mmodel\u001b[0m \u001b[1;33m=\u001b[0m \u001b[0mload_model\u001b[0m\u001b[1;33m(\u001b[0m\u001b[0mmodelPath\u001b[0m\u001b[1;33m)\u001b[0m\u001b[1;33m\u001b[0m\u001b[0m\n\u001b[0m\u001b[0;32m      9\u001b[0m     \u001b[0mmodel\u001b[0m\u001b[1;33m.\u001b[0m\u001b[0msummary\u001b[0m\u001b[1;33m(\u001b[0m\u001b[1;33m)\u001b[0m\u001b[1;33m\u001b[0m\u001b[0m\n\u001b[0;32m     10\u001b[0m     \u001b[0mhistPath\u001b[0m \u001b[1;33m=\u001b[0m \u001b[0mjoin\u001b[0m\u001b[1;33m(\u001b[0m\u001b[0mexpPath\u001b[0m\u001b[1;33m,\u001b[0m \u001b[1;34m\"VGG16_History.csv\"\u001b[0m\u001b[1;33m)\u001b[0m\u001b[1;33m\u001b[0m\u001b[0m\n",
      "\u001b[1;32mC:\\Anaconda\\envs\\py36\\lib\\site-packages\\keras\\engine\\saving.py\u001b[0m in \u001b[0;36mload_model\u001b[1;34m(filepath, custom_objects, compile)\u001b[0m\n\u001b[0;32m    417\u001b[0m     \u001b[0mf\u001b[0m \u001b[1;33m=\u001b[0m \u001b[0mh5dict\u001b[0m\u001b[1;33m(\u001b[0m\u001b[0mfilepath\u001b[0m\u001b[1;33m,\u001b[0m \u001b[1;34m'r'\u001b[0m\u001b[1;33m)\u001b[0m\u001b[1;33m\u001b[0m\u001b[0m\n\u001b[0;32m    418\u001b[0m     \u001b[1;32mtry\u001b[0m\u001b[1;33m:\u001b[0m\u001b[1;33m\u001b[0m\u001b[0m\n\u001b[1;32m--> 419\u001b[1;33m         \u001b[0mmodel\u001b[0m \u001b[1;33m=\u001b[0m \u001b[0m_deserialize_model\u001b[0m\u001b[1;33m(\u001b[0m\u001b[0mf\u001b[0m\u001b[1;33m,\u001b[0m \u001b[0mcustom_objects\u001b[0m\u001b[1;33m,\u001b[0m \u001b[0mcompile\u001b[0m\u001b[1;33m)\u001b[0m\u001b[1;33m\u001b[0m\u001b[0m\n\u001b[0m\u001b[0;32m    420\u001b[0m     \u001b[1;32mfinally\u001b[0m\u001b[1;33m:\u001b[0m\u001b[1;33m\u001b[0m\u001b[0m\n\u001b[0;32m    421\u001b[0m         \u001b[1;32mif\u001b[0m \u001b[0mopened_new_file\u001b[0m\u001b[1;33m:\u001b[0m\u001b[1;33m\u001b[0m\u001b[0m\n",
      "\u001b[1;32mC:\\Anaconda\\envs\\py36\\lib\\site-packages\\keras\\engine\\saving.py\u001b[0m in \u001b[0;36m_deserialize_model\u001b[1;34m(f, custom_objects, compile)\u001b[0m\n\u001b[0;32m    285\u001b[0m                              ' elements.')\n\u001b[0;32m    286\u001b[0m         \u001b[0mweight_value_tuples\u001b[0m \u001b[1;33m+=\u001b[0m \u001b[0mzip\u001b[0m\u001b[1;33m(\u001b[0m\u001b[0msymbolic_weights\u001b[0m\u001b[1;33m,\u001b[0m \u001b[0mweight_values\u001b[0m\u001b[1;33m)\u001b[0m\u001b[1;33m\u001b[0m\u001b[0m\n\u001b[1;32m--> 287\u001b[1;33m     \u001b[0mK\u001b[0m\u001b[1;33m.\u001b[0m\u001b[0mbatch_set_value\u001b[0m\u001b[1;33m(\u001b[0m\u001b[0mweight_value_tuples\u001b[0m\u001b[1;33m)\u001b[0m\u001b[1;33m\u001b[0m\u001b[0m\n\u001b[0m\u001b[0;32m    288\u001b[0m \u001b[1;33m\u001b[0m\u001b[0m\n\u001b[0;32m    289\u001b[0m     \u001b[1;32mif\u001b[0m \u001b[0mcompile\u001b[0m\u001b[1;33m:\u001b[0m\u001b[1;33m\u001b[0m\u001b[0m\n",
      "\u001b[1;32mC:\\Anaconda\\envs\\py36\\lib\\site-packages\\keras\\backend\\tensorflow_backend.py\u001b[0m in \u001b[0;36mbatch_set_value\u001b[1;34m(tuples)\u001b[0m\n\u001b[0;32m   2468\u001b[0m             \u001b[0massign_ops\u001b[0m\u001b[1;33m.\u001b[0m\u001b[0mappend\u001b[0m\u001b[1;33m(\u001b[0m\u001b[0massign_op\u001b[0m\u001b[1;33m)\u001b[0m\u001b[1;33m\u001b[0m\u001b[0m\n\u001b[0;32m   2469\u001b[0m             \u001b[0mfeed_dict\u001b[0m\u001b[1;33m[\u001b[0m\u001b[0massign_placeholder\u001b[0m\u001b[1;33m]\u001b[0m \u001b[1;33m=\u001b[0m \u001b[0mvalue\u001b[0m\u001b[1;33m\u001b[0m\u001b[0m\n\u001b[1;32m-> 2470\u001b[1;33m         \u001b[0mget_session\u001b[0m\u001b[1;33m(\u001b[0m\u001b[1;33m)\u001b[0m\u001b[1;33m.\u001b[0m\u001b[0mrun\u001b[0m\u001b[1;33m(\u001b[0m\u001b[0massign_ops\u001b[0m\u001b[1;33m,\u001b[0m \u001b[0mfeed_dict\u001b[0m\u001b[1;33m=\u001b[0m\u001b[0mfeed_dict\u001b[0m\u001b[1;33m)\u001b[0m\u001b[1;33m\u001b[0m\u001b[0m\n\u001b[0m\u001b[0;32m   2471\u001b[0m \u001b[1;33m\u001b[0m\u001b[0m\n\u001b[0;32m   2472\u001b[0m \u001b[1;33m\u001b[0m\u001b[0m\n",
      "\u001b[1;32mC:\\Anaconda\\envs\\py36\\lib\\site-packages\\keras\\backend\\tensorflow_backend.py\u001b[0m in \u001b[0;36mget_session\u001b[1;34m()\u001b[0m\n\u001b[0;32m    204\u001b[0m                     \u001b[0mv\u001b[0m\u001b[1;33m.\u001b[0m\u001b[0m_keras_initialized\u001b[0m \u001b[1;33m=\u001b[0m \u001b[1;32mTrue\u001b[0m\u001b[1;33m\u001b[0m\u001b[0m\n\u001b[0;32m    205\u001b[0m                 \u001b[1;32mif\u001b[0m \u001b[0muninitialized_vars\u001b[0m\u001b[1;33m:\u001b[0m\u001b[1;33m\u001b[0m\u001b[0m\n\u001b[1;32m--> 206\u001b[1;33m                     \u001b[0msession\u001b[0m\u001b[1;33m.\u001b[0m\u001b[0mrun\u001b[0m\u001b[1;33m(\u001b[0m\u001b[0mtf\u001b[0m\u001b[1;33m.\u001b[0m\u001b[0mvariables_initializer\u001b[0m\u001b[1;33m(\u001b[0m\u001b[0muninitialized_vars\u001b[0m\u001b[1;33m)\u001b[0m\u001b[1;33m)\u001b[0m\u001b[1;33m\u001b[0m\u001b[0m\n\u001b[0m\u001b[0;32m    207\u001b[0m     \u001b[1;31m# hack for list_devices() function.\u001b[0m\u001b[1;33m\u001b[0m\u001b[1;33m\u001b[0m\u001b[0m\n\u001b[0;32m    208\u001b[0m     \u001b[1;31m# list_devices() function is not available under tensorflow r1.3.\u001b[0m\u001b[1;33m\u001b[0m\u001b[1;33m\u001b[0m\u001b[0m\n",
      "\u001b[1;32mC:\\Anaconda\\envs\\py36\\lib\\site-packages\\tensorflow\\python\\client\\session.py\u001b[0m in \u001b[0;36mrun\u001b[1;34m(self, fetches, feed_dict, options, run_metadata)\u001b[0m\n\u001b[0;32m    927\u001b[0m     \u001b[1;32mtry\u001b[0m\u001b[1;33m:\u001b[0m\u001b[1;33m\u001b[0m\u001b[0m\n\u001b[0;32m    928\u001b[0m       result = self._run(None, fetches, feed_dict, options_ptr,\n\u001b[1;32m--> 929\u001b[1;33m                          run_metadata_ptr)\n\u001b[0m\u001b[0;32m    930\u001b[0m       \u001b[1;32mif\u001b[0m \u001b[0mrun_metadata\u001b[0m\u001b[1;33m:\u001b[0m\u001b[1;33m\u001b[0m\u001b[0m\n\u001b[0;32m    931\u001b[0m         \u001b[0mproto_data\u001b[0m \u001b[1;33m=\u001b[0m \u001b[0mtf_session\u001b[0m\u001b[1;33m.\u001b[0m\u001b[0mTF_GetBuffer\u001b[0m\u001b[1;33m(\u001b[0m\u001b[0mrun_metadata_ptr\u001b[0m\u001b[1;33m)\u001b[0m\u001b[1;33m\u001b[0m\u001b[0m\n",
      "\u001b[1;32mC:\\Anaconda\\envs\\py36\\lib\\site-packages\\tensorflow\\python\\client\\session.py\u001b[0m in \u001b[0;36m_run\u001b[1;34m(self, handle, fetches, feed_dict, options, run_metadata)\u001b[0m\n\u001b[0;32m   1150\u001b[0m     \u001b[1;32mif\u001b[0m \u001b[0mfinal_fetches\u001b[0m \u001b[1;32mor\u001b[0m \u001b[0mfinal_targets\u001b[0m \u001b[1;32mor\u001b[0m \u001b[1;33m(\u001b[0m\u001b[0mhandle\u001b[0m \u001b[1;32mand\u001b[0m \u001b[0mfeed_dict_tensor\u001b[0m\u001b[1;33m)\u001b[0m\u001b[1;33m:\u001b[0m\u001b[1;33m\u001b[0m\u001b[0m\n\u001b[0;32m   1151\u001b[0m       results = self._do_run(handle, final_targets, final_fetches,\n\u001b[1;32m-> 1152\u001b[1;33m                              feed_dict_tensor, options, run_metadata)\n\u001b[0m\u001b[0;32m   1153\u001b[0m     \u001b[1;32melse\u001b[0m\u001b[1;33m:\u001b[0m\u001b[1;33m\u001b[0m\u001b[0m\n\u001b[0;32m   1154\u001b[0m       \u001b[0mresults\u001b[0m \u001b[1;33m=\u001b[0m \u001b[1;33m[\u001b[0m\u001b[1;33m]\u001b[0m\u001b[1;33m\u001b[0m\u001b[0m\n",
      "\u001b[1;32mC:\\Anaconda\\envs\\py36\\lib\\site-packages\\tensorflow\\python\\client\\session.py\u001b[0m in \u001b[0;36m_do_run\u001b[1;34m(self, handle, target_list, fetch_list, feed_dict, options, run_metadata)\u001b[0m\n\u001b[0;32m   1326\u001b[0m     \u001b[1;32mif\u001b[0m \u001b[0mhandle\u001b[0m \u001b[1;32mis\u001b[0m \u001b[1;32mNone\u001b[0m\u001b[1;33m:\u001b[0m\u001b[1;33m\u001b[0m\u001b[0m\n\u001b[0;32m   1327\u001b[0m       return self._do_call(_run_fn, feeds, fetches, targets, options,\n\u001b[1;32m-> 1328\u001b[1;33m                            run_metadata)\n\u001b[0m\u001b[0;32m   1329\u001b[0m     \u001b[1;32melse\u001b[0m\u001b[1;33m:\u001b[0m\u001b[1;33m\u001b[0m\u001b[0m\n\u001b[0;32m   1330\u001b[0m       \u001b[1;32mreturn\u001b[0m \u001b[0mself\u001b[0m\u001b[1;33m.\u001b[0m\u001b[0m_do_call\u001b[0m\u001b[1;33m(\u001b[0m\u001b[0m_prun_fn\u001b[0m\u001b[1;33m,\u001b[0m \u001b[0mhandle\u001b[0m\u001b[1;33m,\u001b[0m \u001b[0mfeeds\u001b[0m\u001b[1;33m,\u001b[0m \u001b[0mfetches\u001b[0m\u001b[1;33m)\u001b[0m\u001b[1;33m\u001b[0m\u001b[0m\n",
      "\u001b[1;32mC:\\Anaconda\\envs\\py36\\lib\\site-packages\\tensorflow\\python\\client\\session.py\u001b[0m in \u001b[0;36m_do_call\u001b[1;34m(self, fn, *args)\u001b[0m\n\u001b[0;32m   1346\u001b[0m           \u001b[1;32mpass\u001b[0m\u001b[1;33m\u001b[0m\u001b[0m\n\u001b[0;32m   1347\u001b[0m       \u001b[0mmessage\u001b[0m \u001b[1;33m=\u001b[0m \u001b[0merror_interpolation\u001b[0m\u001b[1;33m.\u001b[0m\u001b[0minterpolate\u001b[0m\u001b[1;33m(\u001b[0m\u001b[0mmessage\u001b[0m\u001b[1;33m,\u001b[0m \u001b[0mself\u001b[0m\u001b[1;33m.\u001b[0m\u001b[0m_graph\u001b[0m\u001b[1;33m)\u001b[0m\u001b[1;33m\u001b[0m\u001b[0m\n\u001b[1;32m-> 1348\u001b[1;33m       \u001b[1;32mraise\u001b[0m \u001b[0mtype\u001b[0m\u001b[1;33m(\u001b[0m\u001b[0me\u001b[0m\u001b[1;33m)\u001b[0m\u001b[1;33m(\u001b[0m\u001b[0mnode_def\u001b[0m\u001b[1;33m,\u001b[0m \u001b[0mop\u001b[0m\u001b[1;33m,\u001b[0m \u001b[0mmessage\u001b[0m\u001b[1;33m)\u001b[0m\u001b[1;33m\u001b[0m\u001b[0m\n\u001b[0m\u001b[0;32m   1349\u001b[0m \u001b[1;33m\u001b[0m\u001b[0m\n\u001b[0;32m   1350\u001b[0m   \u001b[1;32mdef\u001b[0m \u001b[0m_extend_graph\u001b[0m\u001b[1;33m(\u001b[0m\u001b[0mself\u001b[0m\u001b[1;33m)\u001b[0m\u001b[1;33m:\u001b[0m\u001b[1;33m\u001b[0m\u001b[0m\n",
      "\u001b[1;31mResourceExhaustedError\u001b[0m: OOM when allocating tensor of shape [] and type float\n\t [[node block1_conv1_9/random_uniform/sub (defined at C:\\Anaconda\\envs\\py36\\lib\\site-packages\\keras\\backend\\tensorflow_backend.py:4139)  = Const[dtype=DT_FLOAT, value=Tensor<type: float shape: [] values: 0.199501872>, _device=\"/job:localhost/replica:0/task:0/device:GPU:0\"]()]]\n\nCaused by op 'block1_conv1_9/random_uniform/sub', defined at:\n  File \"C:\\Anaconda\\envs\\py36\\lib\\runpy.py\", line 193, in _run_module_as_main\n    \"__main__\", mod_spec)\n  File \"C:\\Anaconda\\envs\\py36\\lib\\runpy.py\", line 85, in _run_code\n    exec(code, run_globals)\n  File \"C:\\Anaconda\\envs\\py36\\lib\\site-packages\\ipykernel_launcher.py\", line 16, in <module>\n    app.launch_new_instance()\n  File \"C:\\Anaconda\\envs\\py36\\lib\\site-packages\\traitlets\\config\\application.py\", line 658, in launch_instance\n    app.start()\n  File \"C:\\Anaconda\\envs\\py36\\lib\\site-packages\\ipykernel\\kernelapp.py\", line 478, in start\n    self.io_loop.start()\n  File \"C:\\Anaconda\\envs\\py36\\lib\\site-packages\\zmq\\eventloop\\ioloop.py\", line 177, in start\n    super(ZMQIOLoop, self).start()\n  File \"C:\\Anaconda\\envs\\py36\\lib\\site-packages\\tornado\\ioloop.py\", line 888, in start\n    handler_func(fd_obj, events)\n  File \"C:\\Anaconda\\envs\\py36\\lib\\site-packages\\tornado\\stack_context.py\", line 277, in null_wrapper\n    return fn(*args, **kwargs)\n  File \"C:\\Anaconda\\envs\\py36\\lib\\site-packages\\zmq\\eventloop\\zmqstream.py\", line 440, in _handle_events\n    self._handle_recv()\n  File \"C:\\Anaconda\\envs\\py36\\lib\\site-packages\\zmq\\eventloop\\zmqstream.py\", line 472, in _handle_recv\n    self._run_callback(callback, msg)\n  File \"C:\\Anaconda\\envs\\py36\\lib\\site-packages\\zmq\\eventloop\\zmqstream.py\", line 414, in _run_callback\n    callback(*args, **kwargs)\n  File \"C:\\Anaconda\\envs\\py36\\lib\\site-packages\\tornado\\stack_context.py\", line 277, in null_wrapper\n    return fn(*args, **kwargs)\n  File \"C:\\Anaconda\\envs\\py36\\lib\\site-packages\\ipykernel\\kernelbase.py\", line 281, in dispatcher\n    return self.dispatch_shell(stream, msg)\n  File \"C:\\Anaconda\\envs\\py36\\lib\\site-packages\\ipykernel\\kernelbase.py\", line 232, in dispatch_shell\n    handler(stream, idents, msg)\n  File \"C:\\Anaconda\\envs\\py36\\lib\\site-packages\\ipykernel\\kernelbase.py\", line 397, in execute_request\n    user_expressions, allow_stdin)\n  File \"C:\\Anaconda\\envs\\py36\\lib\\site-packages\\ipykernel\\ipkernel.py\", line 208, in do_execute\n    res = shell.run_cell(code, store_history=store_history, silent=silent)\n  File \"C:\\Anaconda\\envs\\py36\\lib\\site-packages\\ipykernel\\zmqshell.py\", line 533, in run_cell\n    return super(ZMQInteractiveShell, self).run_cell(*args, **kwargs)\n  File \"C:\\Anaconda\\envs\\py36\\lib\\site-packages\\IPython\\core\\interactiveshell.py\", line 2728, in run_cell\n    interactivity=interactivity, compiler=compiler, result=result)\n  File \"C:\\Anaconda\\envs\\py36\\lib\\site-packages\\IPython\\core\\interactiveshell.py\", line 2850, in run_ast_nodes\n    if self.run_code(code, result):\n  File \"C:\\Anaconda\\envs\\py36\\lib\\site-packages\\IPython\\core\\interactiveshell.py\", line 2910, in run_code\n    exec(code_obj, self.user_global_ns, self.user_ns)\n  File \"<ipython-input-30-fe0563691d89>\", line 8, in <module>\n    model = load_model(modelPath)\n  File \"C:\\Anaconda\\envs\\py36\\lib\\site-packages\\keras\\engine\\saving.py\", line 419, in load_model\n    model = _deserialize_model(f, custom_objects, compile)\n  File \"C:\\Anaconda\\envs\\py36\\lib\\site-packages\\keras\\engine\\saving.py\", line 225, in _deserialize_model\n    model = model_from_config(model_config, custom_objects=custom_objects)\n  File \"C:\\Anaconda\\envs\\py36\\lib\\site-packages\\keras\\engine\\saving.py\", line 458, in model_from_config\n    return deserialize(config, custom_objects=custom_objects)\n  File \"C:\\Anaconda\\envs\\py36\\lib\\site-packages\\keras\\layers\\__init__.py\", line 55, in deserialize\n    printable_module_name='layer')\n  File \"C:\\Anaconda\\envs\\py36\\lib\\site-packages\\keras\\utils\\generic_utils.py\", line 145, in deserialize_keras_object\n    list(custom_objects.items())))\n  File \"C:\\Anaconda\\envs\\py36\\lib\\site-packages\\keras\\engine\\network.py\", line 1032, in from_config\n    process_node(layer, node_data)\n  File \"C:\\Anaconda\\envs\\py36\\lib\\site-packages\\keras\\engine\\network.py\", line 991, in process_node\n    layer(unpack_singleton(input_tensors), **kwargs)\n  File \"C:\\Anaconda\\envs\\py36\\lib\\site-packages\\keras\\engine\\base_layer.py\", line 431, in __call__\n    self.build(unpack_singleton(input_shapes))\n  File \"C:\\Anaconda\\envs\\py36\\lib\\site-packages\\keras\\layers\\convolutional.py\", line 141, in build\n    constraint=self.kernel_constraint)\n  File \"C:\\Anaconda\\envs\\py36\\lib\\site-packages\\keras\\legacy\\interfaces.py\", line 91, in wrapper\n    return func(*args, **kwargs)\n  File \"C:\\Anaconda\\envs\\py36\\lib\\site-packages\\keras\\engine\\base_layer.py\", line 249, in add_weight\n    weight = K.variable(initializer(shape),\n  File \"C:\\Anaconda\\envs\\py36\\lib\\site-packages\\keras\\initializers.py\", line 218, in __call__\n    dtype=dtype, seed=self.seed)\n  File \"C:\\Anaconda\\envs\\py36\\lib\\site-packages\\keras\\backend\\tensorflow_backend.py\", line 4139, in random_uniform\n    dtype=dtype, seed=seed)\n  File \"C:\\Anaconda\\envs\\py36\\lib\\site-packages\\tensorflow\\python\\ops\\random_ops.py\", line 244, in random_uniform\n    return math_ops.add(rnd * (maxval - minval), minval, name=name)\n  File \"C:\\Anaconda\\envs\\py36\\lib\\site-packages\\tensorflow\\python\\ops\\math_ops.py\", line 866, in binary_op_wrapper\n    return func(x, y, name=name)\n  File \"C:\\Anaconda\\envs\\py36\\lib\\site-packages\\tensorflow\\python\\ops\\gen_math_ops.py\", line 8318, in sub\n    \"Sub\", x=x, y=y, name=name)\n  File \"C:\\Anaconda\\envs\\py36\\lib\\site-packages\\tensorflow\\python\\framework\\op_def_library.py\", line 787, in _apply_op_helper\n    op_def=op_def)\n  File \"C:\\Anaconda\\envs\\py36\\lib\\site-packages\\tensorflow\\python\\util\\deprecation.py\", line 488, in new_func\n    return func(*args, **kwargs)\n  File \"C:\\Anaconda\\envs\\py36\\lib\\site-packages\\tensorflow\\python\\framework\\ops.py\", line 3274, in create_op\n    op_def=op_def)\n  File \"C:\\Anaconda\\envs\\py36\\lib\\site-packages\\tensorflow\\python\\framework\\ops.py\", line 1770, in __init__\n    self._traceback = tf_stack.extract_stack()\n\nResourceExhaustedError (see above for traceback): OOM when allocating tensor of shape [] and type float\n\t [[node block1_conv1_9/random_uniform/sub (defined at C:\\Anaconda\\envs\\py36\\lib\\site-packages\\keras\\backend\\tensorflow_backend.py:4139)  = Const[dtype=DT_FLOAT, value=Tensor<type: float shape: [] values: 0.199501872>, _device=\"/job:localhost/replica:0/task:0/device:GPU:0\"]()]]\n"
     ]
    }
   ],
   "source": [
    "dirList = [VGGPath1, VGGPath2, VGGPath3, VGGPath4]\n",
    "modelPred = {}\n",
    "for i, expDir in enumerate(dirList):\n",
    "    print(i, expDir)\n",
    "    expPath = join(modelsPath, expDir)\n",
    "    assert(os.path.isdir(expPath))\n",
    "    modelPath = join(expPath, \"VGG16.hdf5\")\n",
    "    model = load_model(modelPath)\n",
    "    model.summary()\n",
    "    histPath = join(expPath, \"VGG16_History.csv\") \n",
    "    modelHist = pd.read_csv(histPath, index_col=0)\n",
    "    plotModelHist(modelHist)\n",
    "    yTestPred = np.load(join(expPath, \"yTestPred.npy\"))\n",
    "    modelPred[\"VGG16_v{}\".format(i)] = yTestPred"
   ]
  },
  {
   "cell_type": "code",
   "execution_count": 18,
   "metadata": {},
   "outputs": [],
   "source": [
    "classMap = {\n",
    "    \"NORMAL\": 0,\n",
    "    \"DRUSEN\": 1,\n",
    "    \"CNV\": 2,\n",
    "    \"DME\": 3}\n",
    "\n",
    "\n",
    "yTrue1Hot = to_categorical(yTrueTest)\n",
    "yTrueTestUrgent = UrgentVRoutne(yTrue1Hot, classMap).astype(np.int)\n"
   ]
  },
  {
   "cell_type": "code",
   "execution_count": 26,
   "metadata": {},
   "outputs": [
    {
     "name": "stdout",
     "output_type": "stream",
     "text": [
      "VGG16_v0\n",
      "\t accuracy: 0.917\n",
      "\t sensitivity 0.913\n",
      "\t specificity 0.921\n",
      "\t positive likelihood ratio 11.6\n",
      "\t negative likelihood ratio 0.0942\n",
      "\n",
      "\n",
      "VGG16_v1\n",
      "\t accuracy: 0.92\n",
      "\t sensitivity 0.942\n",
      "\t specificity 0.899\n",
      "\t positive likelihood ratio 9.31\n",
      "\t negative likelihood ratio 0.0644\n",
      "\n",
      "\n",
      "VGG16_v2\n",
      "\t accuracy: 0.925\n",
      "\t sensitivity 0.928\n",
      "\t specificity 0.921\n",
      "\t positive likelihood ratio 11.8\n",
      "\t negative likelihood ratio 0.0785\n",
      "\n",
      "\n",
      "VGG16_v3\n",
      "\t accuracy: 0.923\n",
      "\t sensitivity 0.926\n",
      "\t specificity 0.919\n",
      "\t positive likelihood ratio 11.5\n",
      "\t negative likelihood ratio 0.0809\n",
      "\n",
      "\n"
     ]
    }
   ],
   "source": [
    "AccListVGG16 = []\n",
    "SensListVGG16 = []\n",
    "SpecListVGG16 = []\n",
    "\n",
    "aucListVGG16 = []\n",
    "fprsListVGG16 = []\n",
    "tprsListVGG16 = []\n",
    "\n",
    "for vgg_i in modelPred.keys():\n",
    "    print(vgg_i)\n",
    "    yTestPred = modelPred[vgg_i]\n",
    "    yTestPredUrgent = UrgentVRoutne(yTestPred, classMap)\n",
    "    \n",
    "    \n",
    "    scores = reportBinaryScores(yTrueTestUrgent, yTestPredUrgent, v=1)\n",
    "    acc, tpr, tnr, plr, nlr = scores\n",
    "    \n",
    "    fprs, tprs, _ = roc_curve(yTrueTestUrgent, yTestPredUrgent)\n",
    "    aucUrgent = auc(fprs, tprs)\n",
    "    \n",
    "    AccListVGG16.append(acc)\n",
    "    SensListVGG16.append(tpr)\n",
    "    SpecListVGG16.append(tnr)\n",
    "    \n",
    "    aucListVGG16.append(aucUrgent)\n",
    "    fprsListVGG16.append(fprs)\n",
    "    tprsListVGG16.append(tprs)"
   ]
  },
  {
   "cell_type": "code",
   "execution_count": 25,
   "metadata": {},
   "outputs": [
    {
     "data": {
      "text/plain": [
       "(968,)"
      ]
     },
     "execution_count": 25,
     "metadata": {},
     "output_type": "execute_result"
    }
   ],
   "source": [
    "yTestPredUrgent.shape"
   ]
  },
  {
   "cell_type": "code",
   "execution_count": 23,
   "metadata": {},
   "outputs": [
    {
     "data": {
      "text/plain": [
       "[0.9225206611570248,\n",
       " 0.9225206611570248,\n",
       " 0.9225206611570248,\n",
       " 0.9225206611570248]"
      ]
     },
     "execution_count": 23,
     "metadata": {},
     "output_type": "execute_result"
    }
   ],
   "source": [
    "AccListVGG16"
   ]
  },
  {
   "cell_type": "code",
   "execution_count": null,
   "metadata": {},
   "outputs": [],
   "source": []
  }
 ],
 "metadata": {
  "kernelspec": {
   "display_name": "Python 3",
   "language": "python",
   "name": "python3"
  },
  "language_info": {
   "codemirror_mode": {
    "name": "ipython",
    "version": 3
   },
   "file_extension": ".py",
   "mimetype": "text/x-python",
   "name": "python",
   "nbconvert_exporter": "python",
   "pygments_lexer": "ipython3",
   "version": "3.6.3"
  }
 },
 "nbformat": 4,
 "nbformat_minor": 2
}
